{
 "cells": [
  {
   "cell_type": "code",
   "execution_count": 2,
   "id": "6a8bae73-c0e0-40d3-ba3e-dd341cb3e580",
   "metadata": {},
   "outputs": [],
   "source": [
    "import numpy as np\n",
    "from numpy.random import randn\n",
    "import math\n",
    "\n",
    "import plotly as py\n",
    "import plotly.express as px\n",
    "from plotly import graph_objects as go\n",
    "\n",
    "from filterpy import kalman as kf\n",
    "from filterpy.common import Q_discrete_white_noise"
   ]
  },
  {
   "cell_type": "code",
   "execution_count": null,
   "id": "5e612b24-2a03-4327-841c-975999233be8",
   "metadata": {},
   "outputs": [],
   "source": [
    "def train_me(zs, xs, )"
   ]
  }
 ],
 "metadata": {
  "kernelspec": {
   "display_name": "yolov5_torch",
   "language": "python",
   "name": "yolov5_torch"
  },
  "language_info": {
   "codemirror_mode": {
    "name": "ipython",
    "version": 3
   },
   "file_extension": ".py",
   "mimetype": "text/x-python",
   "name": "python",
   "nbconvert_exporter": "python",
   "pygments_lexer": "ipython3",
   "version": "3.10.5"
  }
 },
 "nbformat": 4,
 "nbformat_minor": 5
}
