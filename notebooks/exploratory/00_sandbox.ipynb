{
 "cells": [
  {
   "cell_type": "markdown",
   "id": "70c69b35-7da2-41a3-b881-7049de3344c3",
   "metadata": {},
   "source": [
    "# Object Detection in Videos"
   ]
  },
  {
   "cell_type": "code",
   "execution_count": null,
   "id": "3ec80cad-1696-41f6-9c62-d0d27b38f478",
   "metadata": {},
   "outputs": [],
   "source": []
  }
 ],
 "metadata": {
  "kernelspec": {
   "display_name": "dsr-setup",
   "language": "python",
   "name": "dsr-setup"
  },
  "language_info": {
   "codemirror_mode": {
    "name": "ipython",
    "version": 3
   },
   "file_extension": ".py",
   "mimetype": "text/x-python",
   "name": "python",
   "nbconvert_exporter": "python",
   "pygments_lexer": "ipython3",
   "version": "3.8.13"
  }
 },
 "nbformat": 4,
 "nbformat_minor": 5
}
