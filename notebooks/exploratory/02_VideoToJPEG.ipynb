{
 "cells": [
  {
   "cell_type": "code",
   "execution_count": 1,
   "id": "d4eba906-0d8b-4485-aafb-968173bc39d0",
   "metadata": {},
   "outputs": [],
   "source": [
    "import cv2\n",
    "import os"
   ]
  },
  {
   "cell_type": "code",
   "execution_count": 2,
   "id": "810bbb90-2fe5-46ee-8511-030889231e1a",
   "metadata": {},
   "outputs": [
    {
     "data": {
      "text/plain": [
       "(True, True)"
      ]
     },
     "execution_count": 2,
     "metadata": {},
     "output_type": "execute_result"
    }
   ],
   "source": [
    "# file_path = \"../data/raw/PhysicAI_Tracker/basketball.mov\"\n",
    "# file_path = \"../data/raw/PhysicAI_Tracker/handball/220613_webcam/throwing_fast_wall_640-480-120.mkv\"\n",
    "# output_dir = \"../data/interim/PhysicAI_Tracker/handball/\"\n",
    "file_path = \"IMG_4076.mp4\"\n",
    "output_dir = \"./img22/\"\n",
    "os.path.exists(file_path), os.path.exists(output_dir)"
   ]
  },
  {
   "cell_type": "code",
   "execution_count": 3,
   "id": "d400b05a-c8c2-4a90-9b40-e4d016889732",
   "metadata": {},
   "outputs": [],
   "source": [
    "vidcap = cv2.VideoCapture(file_path)\n",
    "success, image = vidcap.read()\n",
    "frame_count = 0\n",
    "while success:\n",
    "    frame_count += 1\n",
    "    cv2.imwrite (output_dir + f\"{frame_count:05d}.jpg\", image)\n",
    "    success, image = vidcap.read()"
   ]
  },
  {
   "cell_type": "code",
   "execution_count": 4,
   "id": "a3358c2c-38c2-4558-b041-c3b2fb321c51",
   "metadata": {},
   "outputs": [
    {
     "data": {
      "text/plain": [
       "986"
      ]
     },
     "execution_count": 4,
     "metadata": {},
     "output_type": "execute_result"
    }
   ],
   "source": [
    "frame_count"
   ]
  },
  {
   "cell_type": "code",
   "execution_count": null,
   "id": "4d626a7c-1e47-4dab-96b3-a362a1e9b397",
   "metadata": {},
   "outputs": [],
   "source": []
  }
 ],
 "metadata": {
  "kernelspec": {
   "display_name": "opencv-env",
   "language": "python",
   "name": "opencv-env"
  },
  "language_info": {
   "codemirror_mode": {
    "name": "ipython",
    "version": 3
   },
   "file_extension": ".py",
   "mimetype": "text/x-python",
   "name": "python",
   "nbconvert_exporter": "python",
   "pygments_lexer": "ipython3",
   "version": "3.8.13"
  }
 },
 "nbformat": 4,
 "nbformat_minor": 5
}
