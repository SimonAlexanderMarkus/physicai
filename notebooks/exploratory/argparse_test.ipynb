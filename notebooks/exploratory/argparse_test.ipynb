{
 "cells": [
  {
   "cell_type": "code",
   "execution_count": 1,
   "id": "f4e43576-30fb-4802-a970-f8440ca94d4e",
   "metadata": {},
   "outputs": [],
   "source": [
    "import argparse"
   ]
  },
  {
   "cell_type": "code",
   "execution_count": 8,
   "id": "9f424531-3a00-482f-a30d-1823f3140313",
   "metadata": {},
   "outputs": [],
   "source": [
    "def parse_opt():\n",
    "    print(\"--- Entering parse_opt\")\n",
    "    parser = argparse.ArgumentParser(description=\"Test of argparse\")\n",
    "    print(\"--- Parser initialized\")\n",
    "    parser.add_argument(\"-text\", type=str)\n",
    "    parser.add_argument(\"--text2\", type=str)\n",
    "    parser.add_argument(\"-number\", type=int, default=1)\n",
    "    print(\"--- Parser argumenst added\")\n",
    "    opt = parser.parse_args()\n",
    "    print(\"--- parse_args() called\")\n",
    "    return opt"
   ]
  },
  {
   "cell_type": "code",
   "execution_count": 3,
   "id": "53fd2514-c02a-4370-b99f-147f5e266dee",
   "metadata": {},
   "outputs": [],
   "source": [
    "def run(text=\"Std Text\",\n",
    "        text2=\"Std Text 2\",\n",
    "        number=1, \n",
    "        ):\n",
    "    print(\"--- Entering run\")\n",
    "    print(f\"--- text: {text}\")\n",
    "    print(f\"--- text2: {text2}\")\n",
    "    print(f\"--- numer: {number}\")\n",
    "    \n",
    "    for i in range(number):\n",
    "        print(text)\n",
    "    print(text2)"
   ]
  },
  {
   "cell_type": "code",
   "execution_count": 4,
   "id": "5bf55bce-ee0d-4df4-8b6c-bfddb03227c9",
   "metadata": {},
   "outputs": [],
   "source": [
    "def main(opt):\n",
    "    print(\"--- Entering Main\")\n",
    "    print(str(**vars(opt)))\n",
    "    run(**vars(opt))"
   ]
  },
  {
   "cell_type": "code",
   "execution_count": 7,
   "id": "b2fcb1a2-004c-4c13-bee7-45d2d0072a41",
   "metadata": {},
   "outputs": [
    {
     "name": "stdout",
     "output_type": "stream",
     "text": [
      "--- Entering parse_opt\n",
      "--- Parser initialized\n",
      "--- Parser argumenst added\n"
     ]
    },
    {
     "name": "stderr",
     "output_type": "stream",
     "text": [
      "usage: ipykernel_launcher.py [-h] [-text TEXT] [--text2 TEXT2]\n",
      "                             [-number NUMBER]\n",
      "ipykernel_launcher.py: error: unrecognized arguments: -f /home/sam/.local/share/jupyter/runtime/kernel-145d4db6-94a1-417f-9ed2-f9da042e0e6d.json\n"
     ]
    },
    {
     "ename": "SystemExit",
     "evalue": "2",
     "output_type": "error",
     "traceback": [
      "An exception has occurred, use %tb to see the full traceback.\n",
      "\u001b[0;31mSystemExit\u001b[0m\u001b[0;31m:\u001b[0m 2\n"
     ]
    }
   ],
   "source": [
    "parse_opt()"
   ]
  },
  {
   "cell_type": "code",
   "execution_count": 12,
   "id": "17021cb8-beb5-4bce-8418-36bdbab5d811",
   "metadata": {},
   "outputs": [],
   "source": [
    "import time\n",
    "from IPython import display"
   ]
  },
  {
   "cell_type": "code",
   "execution_count": 15,
   "id": "5ece0356-e0ba-49d0-930f-f5a2e7212142",
   "metadata": {},
   "outputs": [
    {
     "name": "stdout",
     "output_type": "stream",
     "text": [
      "Wait ... 1"
     ]
    }
   ],
   "source": [
    "countdown = 3\n",
    "for count in range(countdown):\n",
    "    display.clear_output()\n",
    "    print(f\"Wait ... {countdown - count}\", end=\"\")\n",
    "    time.sleep(1)\n"
   ]
  },
  {
   "cell_type": "code",
   "execution_count": null,
   "id": "4b706918-a8e1-4c01-8a22-8c1ffea6fa4a",
   "metadata": {},
   "outputs": [],
   "source": []
  }
 ],
 "metadata": {
  "kernelspec": {
   "display_name": "opencv-env",
   "language": "python",
   "name": "opencv-env"
  },
  "language_info": {
   "codemirror_mode": {
    "name": "ipython",
    "version": 3
   },
   "file_extension": ".py",
   "mimetype": "text/x-python",
   "name": "python",
   "nbconvert_exporter": "python",
   "pygments_lexer": "ipython3",
   "version": "3.8.13"
  }
 },
 "nbformat": 4,
 "nbformat_minor": 5
}
