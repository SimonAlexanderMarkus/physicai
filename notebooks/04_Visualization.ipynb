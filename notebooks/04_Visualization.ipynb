{
 "cells": [
  {
   "cell_type": "markdown",
   "id": "aa5f93b0-3c0d-47ed-bfc6-9aa35ca6aa8a",
   "metadata": {},
   "source": [
    "## Load Dependencies"
   ]
  },
  {
   "cell_type": "markdown",
   "id": "09f3a2fb-8df7-44d6-97d8-7d5837b3a6d0",
   "metadata": {},
   "source": [
    "### Import Libraries"
   ]
  },
  {
   "cell_type": "code",
   "execution_count": 1,
   "id": "3bb44b5b",
   "metadata": {},
   "outputs": [],
   "source": [
    "import cv2\n",
    "import os"
   ]
  },
  {
   "cell_type": "markdown",
   "id": "4339bd9e-d7a5-4356-b109-b907dbeb7541",
   "metadata": {},
   "source": [
    "### Data and File Paths"
   ]
  },
  {
   "cell_type": "code",
   "execution_count": 2,
   "id": "f439df67-6b87-48c9-9294-265ec453cb14",
   "metadata": {},
   "outputs": [],
   "source": [
    "sequence_dir = \"../data/raw/MOT16/test/MOT16-01/img1\"\n",
    "# create dict {frame_id: image-path}\n",
    "if os.path.exists(sequence_dir):\n",
    "    image_paths = {\n",
    "        int(os.path.splitext(f)[0]): os.path.join(sequence_dir, f)\n",
    "        for f in os.listdir(sequence_dir)\n",
    "    }\n",
    "else:\n",
    "    print(\"Invalid Path!\")\n",
    "detections_path = \"...\""
   ]
  },
  {
   "cell_type": "code",
   "execution_count": 3,
   "id": "e3b138ed-e42d-40e5-b576-da5fb52b7353",
   "metadata": {},
   "outputs": [
    {
     "data": {
      "text/plain": [
       "'../data/raw/MOT16/test/MOT16-01/img1/000042.jpg'"
      ]
     },
     "execution_count": 3,
     "metadata": {},
     "output_type": "execute_result"
    }
   ],
   "source": [
    "image_paths[42]"
   ]
  },
  {
   "cell_type": "markdown",
   "id": "ee41b7c3-cb91-45c2-a375-4d33eb487a96",
   "metadata": {},
   "source": [
    "## Visualization Loop\n",
    "Visualization and Tracking Loop construct from \"DeepSORT\": \n",
    "https://github.com/nwojke/deep_sort\n"
   ]
  },
  {
   "cell_type": "code",
   "execution_count": 4,
   "id": "f3851472-3c40-4b94-800a-b093341866ca",
   "metadata": {},
   "outputs": [],
   "source": [
    "def frame_callback(vis, frame_id):\n",
    "    # detections(frame_id), Kalman-Prediction and Update...\n",
    "    \n",
    "    print(f\"STEP INTO: frame_callback(vis, frame_id={frame_id})\")\n",
    "    image = cv2.imread(\n",
    "        image_paths[frame_id],\n",
    "        cv2.IMREAD_COLOR\n",
    "        # cv2.IMREAD_GRAYSCALE\n",
    "        # cv2.IMREAD_UNCHANGED\n",
    "    )\n",
    "    \n",
    "    vis.set_image(image.copy())\n",
    "    vis.draw_sth()"
   ]
  },
  {
   "cell_type": "code",
   "execution_count": 5,
   "id": "1ddb78aa-4eab-48ad-8579-8c5ad70862d2",
   "metadata": {},
   "outputs": [],
   "source": [
    "class Visualization(object):\n",
    "    # Shows tracking output in an OpenCV image viewer\n",
    "    def __init__(self, frame_id_range):\n",
    "        self.viewer = ImageViewer()\n",
    "        self.frame_id = frame_id_range[0]\n",
    "        self.last_frame_id = frame_id_range[1]\n",
    "        \n",
    "    def set_image(self, image):\n",
    "        print(f\"STEP INTO: Visualization.set_image(image= {type(image)})\")\n",
    "        self.viewer.image = image\n",
    "    \n",
    "    def run(self, frame_callback):\n",
    "        self.viewer.run(lambda: self._update_fun(frame_callback))\n",
    "        \n",
    "    def _update_fun(self, frame_callback):\n",
    "        if self.frame_id > self.last_frame_id:\n",
    "            return False # Terminate\n",
    "        frame_callback(self, self.frame_id)\n",
    "        self.frame_id += 1\n",
    "        return True\n",
    "    \n",
    "    def draw_sth(self):\n",
    "        print(\"Visualization.draw_sth called.\")"
   ]
  },
  {
   "cell_type": "code",
   "execution_count": 6,
   "id": "a24eca3c-03f7-476d-a880-e4a5178b0c5c",
   "metadata": {},
   "outputs": [],
   "source": [
    "class ImageViewer(object):\n",
    "    # image viewer ...\n",
    "    def __init__(self, window_shape=(640, 480)):\n",
    "        self._window_shape = window_shape\n",
    "        ## self._user_fun = lambda: None\n",
    "        self.image = np.zeros(self._window_shape + (3,)) # add 3 color-channels\n",
    "        self._caption = \"my test caption\"\n",
    "        \n",
    "    def run(self, update_fun):\n",
    "        # start the image viewer\n",
    "        ## self._user_fun = update_fun\n",
    "        \n",
    "        self._terminate = False\n",
    "        is_paused = False\n",
    "        \n",
    "        while not self._terminate:\n",
    "            if not is_paused:\n",
    "                self._terminate = not update_fun()\n",
    "            cv2.imshow(self._caption, self.image)\n",
    "            print(\"Wait for it ...\")\n",
    "            cv2.waitKey(2000)        \n",
    "        \n",
    "        print(\"press key to exit\")\n",
    "        cv2.waitKey(0)\n",
    "        self.image[:] = 0\n",
    "        cv2.destroyWindow(self._caption)"
   ]
  },
  {
   "cell_type": "code",
   "execution_count": 7,
   "id": "cf245ae6-00f5-4793-8c3a-56f61a0d0e75",
   "metadata": {},
   "outputs": [
    {
     "name": "stdout",
     "output_type": "stream",
     "text": [
      "STEP INTO: frame_callback(vis, frame_id=1)\n",
      "STEP INTO: Visualization.set_image(image= <class 'numpy.ndarray'>)\n",
      "Visualization.draw_sth called.\n",
      "Wait for it ...\n",
      "STEP INTO: frame_callback(vis, frame_id=2)\n",
      "STEP INTO: Visualization.set_image(image= <class 'numpy.ndarray'>)\n",
      "Visualization.draw_sth called.\n",
      "Wait for it ...\n",
      "STEP INTO: frame_callback(vis, frame_id=3)\n",
      "STEP INTO: Visualization.set_image(image= <class 'numpy.ndarray'>)\n",
      "Visualization.draw_sth called.\n",
      "Wait for it ...\n",
      "STEP INTO: frame_callback(vis, frame_id=4)\n",
      "STEP INTO: Visualization.set_image(image= <class 'numpy.ndarray'>)\n",
      "Visualization.draw_sth called.\n",
      "Wait for it ...\n",
      "STEP INTO: frame_callback(vis, frame_id=5)\n",
      "STEP INTO: Visualization.set_image(image= <class 'numpy.ndarray'>)\n",
      "Visualization.draw_sth called.\n",
      "Wait for it ...\n",
      "STEP INTO: frame_callback(vis, frame_id=6)\n",
      "STEP INTO: Visualization.set_image(image= <class 'numpy.ndarray'>)\n",
      "Visualization.draw_sth called.\n",
      "Wait for it ...\n",
      "STEP INTO: frame_callback(vis, frame_id=7)\n",
      "STEP INTO: Visualization.set_image(image= <class 'numpy.ndarray'>)\n",
      "Visualization.draw_sth called.\n",
      "Wait for it ...\n",
      "STEP INTO: frame_callback(vis, frame_id=8)\n",
      "STEP INTO: Visualization.set_image(image= <class 'numpy.ndarray'>)\n",
      "Visualization.draw_sth called.\n",
      "Wait for it ...\n",
      "STEP INTO: frame_callback(vis, frame_id=9)\n",
      "STEP INTO: Visualization.set_image(image= <class 'numpy.ndarray'>)\n",
      "Visualization.draw_sth called.\n",
      "Wait for it ...\n",
      "STEP INTO: frame_callback(vis, frame_id=10)\n",
      "STEP INTO: Visualization.set_image(image= <class 'numpy.ndarray'>)\n",
      "Visualization.draw_sth called.\n",
      "Wait for it ...\n",
      "STEP INTO: frame_callback(vis, frame_id=11)\n",
      "STEP INTO: Visualization.set_image(image= <class 'numpy.ndarray'>)\n",
      "Visualization.draw_sth called.\n",
      "Wait for it ...\n",
      "STEP INTO: frame_callback(vis, frame_id=12)\n",
      "STEP INTO: Visualization.set_image(image= <class 'numpy.ndarray'>)\n",
      "Visualization.draw_sth called.\n",
      "Wait for it ...\n",
      "STEP INTO: frame_callback(vis, frame_id=13)\n",
      "STEP INTO: Visualization.set_image(image= <class 'numpy.ndarray'>)\n",
      "Visualization.draw_sth called.\n",
      "Wait for it ...\n",
      "STEP INTO: frame_callback(vis, frame_id=14)\n",
      "STEP INTO: Visualization.set_image(image= <class 'numpy.ndarray'>)\n",
      "Visualization.draw_sth called.\n",
      "Wait for it ...\n",
      "STEP INTO: frame_callback(vis, frame_id=15)\n",
      "STEP INTO: Visualization.set_image(image= <class 'numpy.ndarray'>)\n",
      "Visualization.draw_sth called.\n",
      "Wait for it ...\n",
      "STEP INTO: frame_callback(vis, frame_id=16)\n",
      "STEP INTO: Visualization.set_image(image= <class 'numpy.ndarray'>)\n",
      "Visualization.draw_sth called.\n",
      "Wait for it ...\n",
      "STEP INTO: frame_callback(vis, frame_id=17)\n",
      "STEP INTO: Visualization.set_image(image= <class 'numpy.ndarray'>)\n",
      "Visualization.draw_sth called.\n",
      "Wait for it ...\n",
      "STEP INTO: frame_callback(vis, frame_id=18)\n",
      "STEP INTO: Visualization.set_image(image= <class 'numpy.ndarray'>)\n",
      "Visualization.draw_sth called.\n",
      "Wait for it ...\n",
      "STEP INTO: frame_callback(vis, frame_id=19)\n",
      "STEP INTO: Visualization.set_image(image= <class 'numpy.ndarray'>)\n",
      "Visualization.draw_sth called.\n",
      "Wait for it ...\n",
      "STEP INTO: frame_callback(vis, frame_id=20)\n",
      "STEP INTO: Visualization.set_image(image= <class 'numpy.ndarray'>)\n",
      "Visualization.draw_sth called.\n",
      "Wait for it ...\n",
      "STEP INTO: frame_callback(vis, frame_id=21)\n",
      "STEP INTO: Visualization.set_image(image= <class 'numpy.ndarray'>)\n",
      "Visualization.draw_sth called.\n",
      "Wait for it ...\n",
      "STEP INTO: frame_callback(vis, frame_id=22)\n",
      "STEP INTO: Visualization.set_image(image= <class 'numpy.ndarray'>)\n",
      "Visualization.draw_sth called.\n",
      "Wait for it ...\n",
      "STEP INTO: frame_callback(vis, frame_id=23)\n",
      "STEP INTO: Visualization.set_image(image= <class 'numpy.ndarray'>)\n",
      "Visualization.draw_sth called.\n",
      "Wait for it ...\n",
      "STEP INTO: frame_callback(vis, frame_id=24)\n",
      "STEP INTO: Visualization.set_image(image= <class 'numpy.ndarray'>)\n",
      "Visualization.draw_sth called.\n",
      "Wait for it ...\n",
      "STEP INTO: frame_callback(vis, frame_id=25)\n",
      "STEP INTO: Visualization.set_image(image= <class 'numpy.ndarray'>)\n",
      "Visualization.draw_sth called.\n",
      "Wait for it ...\n",
      "STEP INTO: frame_callback(vis, frame_id=26)\n",
      "STEP INTO: Visualization.set_image(image= <class 'numpy.ndarray'>)\n",
      "Visualization.draw_sth called.\n",
      "Wait for it ...\n",
      "STEP INTO: frame_callback(vis, frame_id=27)\n",
      "STEP INTO: Visualization.set_image(image= <class 'numpy.ndarray'>)\n",
      "Visualization.draw_sth called.\n",
      "Wait for it ...\n",
      "STEP INTO: frame_callback(vis, frame_id=28)\n",
      "STEP INTO: Visualization.set_image(image= <class 'numpy.ndarray'>)\n",
      "Visualization.draw_sth called.\n",
      "Wait for it ...\n",
      "STEP INTO: frame_callback(vis, frame_id=29)\n",
      "STEP INTO: Visualization.set_image(image= <class 'numpy.ndarray'>)\n",
      "Visualization.draw_sth called.\n",
      "Wait for it ...\n",
      "STEP INTO: frame_callback(vis, frame_id=30)\n",
      "STEP INTO: Visualization.set_image(image= <class 'numpy.ndarray'>)\n",
      "Visualization.draw_sth called.\n",
      "Wait for it ...\n",
      "STEP INTO: frame_callback(vis, frame_id=31)\n",
      "STEP INTO: Visualization.set_image(image= <class 'numpy.ndarray'>)\n",
      "Visualization.draw_sth called.\n",
      "Wait for it ...\n",
      "STEP INTO: frame_callback(vis, frame_id=32)\n",
      "STEP INTO: Visualization.set_image(image= <class 'numpy.ndarray'>)\n",
      "Visualization.draw_sth called.\n",
      "Wait for it ...\n",
      "Wait for it ...\n",
      "press key to exit\n"
     ]
    }
   ],
   "source": [
    "visualizer = Visualization([1, 32])\n",
    "visualizer.run(frame_callback)"
   ]
  },
  {
   "cell_type": "code",
   "execution_count": null,
   "id": "e7a565f2-40a9-49c5-a1eb-0ebdecaa0d28",
   "metadata": {},
   "outputs": [],
   "source": []
  }
 ],
 "metadata": {
  "kernelspec": {
   "display_name": "opencv-env",
   "language": "python",
   "name": "opencv-env"
  },
  "language_info": {
   "codemirror_mode": {
    "name": "ipython",
    "version": 3
   },
   "file_extension": ".py",
   "mimetype": "text/x-python",
   "name": "python",
   "nbconvert_exporter": "python",
   "pygments_lexer": "ipython3",
   "version": "3.8.13"
  }
 },
 "nbformat": 4,
 "nbformat_minor": 5
}
