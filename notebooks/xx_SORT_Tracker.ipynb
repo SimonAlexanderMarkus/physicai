{
 "cells": [
  {
   "cell_type": "markdown",
   "id": "b59fa7fc-5078-4326-993e-2f149a1ce8c2",
   "metadata": {},
   "source": [
    "# Implementation of SORT\n",
    "https://github.com/abewley/sort"
   ]
  },
  {
   "cell_type": "markdown",
   "id": "2cbb3e35-162b-43f9-b842-6d92fc5b0243",
   "metadata": {},
   "source": [
    "#### Import Dependencies"
   ]
  },
  {
   "cell_type": "code",
   "execution_count": 74,
   "id": "59600e9d-f2fd-4546-b748-1e96641e4252",
   "metadata": {},
   "outputs": [],
   "source": [
    "import numpy as np\n",
    "from scipy.optimize import linear_sum_assignment # Hungarian Method\n",
    "from filterpy.kalman import KalmanFilter"
   ]
  },
  {
   "cell_type": "markdown",
   "id": "9d6fdba5-8605-4c2c-9624-e5529577ead7",
   "metadata": {
    "tags": []
   },
   "source": [
    "#### Bounding Box Conversions"
   ]
  },
  {
   "cell_type": "code",
   "execution_count": 21,
   "id": "ab158d4c-071f-4397-9850-421e5b51a5f6",
   "metadata": {},
   "outputs": [],
   "source": [
    "def convert_x_to_bbox(x,score=None):\n",
    "    \"\"\"\n",
    "    Takes a bounding box in the centre form [x,y,s,r] and returns it in the form\n",
    "    [x1,y1,x2,y2] where x1,y1 is the top left and x2,y2 is the bottom right\n",
    "    \"\"\"\n",
    "    w = np.sqrt(x[2] * x[3])\n",
    "    h = x[2] / w\n",
    "    if(score==None):\n",
    "        return np.array([x[0]-w/2.,x[1]-h/2.,x[0]+w/2.,x[1]+h/2.]).reshape((1,4))\n",
    "    else:\n",
    "        return np.array([x[0]-w/2.,x[1]-h/2.,x[0]+w/2.,x[1]+h/2.,score]).reshape((1,5))\n"
   ]
  },
  {
   "cell_type": "code",
   "execution_count": 44,
   "id": "39caf447-1da0-456d-b504-c5897c1aa394",
   "metadata": {},
   "outputs": [],
   "source": [
    "def convert_bbox_to_z(bbox):\n",
    "    \"\"\"\n",
    "    Takes a bounding box in the form [x1,y1,x2,y2] (or [x1,y1,x2,y2, score]) and returns z in the form\n",
    "    [x,y,s,r] where x,y is the centre of the box and s is the scale/area and r is\n",
    "    the aspect ratio\n",
    "    \"\"\"\n",
    "    w = bbox[2] - bbox[0]\n",
    "    h = bbox[3] - bbox[1]\n",
    "    x = bbox[0] + w/2.\n",
    "    y = bbox[1] + h/2.\n",
    "    s = w * h    #scale is just area\n",
    "    r = w / float(h)\n",
    "    return np.array([x, y, s, r]).reshape((4, 1))\n"
   ]
  },
  {
   "cell_type": "markdown",
   "id": "369c7cf2-31cd-481a-865c-e3c74aca25b6",
   "metadata": {
    "tags": []
   },
   "source": [
    "#### Class Sort"
   ]
  },
  {
   "cell_type": "code",
   "execution_count": 73,
   "id": "3b49147e-a9a9-4eeb-b419-959c0d528f93",
   "metadata": {
    "tags": []
   },
   "outputs": [],
   "source": [
    "class Sort(object):\n",
    "    def __init__(self, max_age=1, min_hits=3, ioun_threshold=0.3):\n",
    "        self.max_age = max_age   ## dead tracklets\n",
    "        self.min_hits = min_hits\n",
    "        self.iou_threshold = iou_threshold\n",
    "        self.trackers = []       ## list of tracklets as KalmanBoxTracker-Objects\n",
    "        self.frame_count = 0\n",
    "    \n",
    "    def update(self, dets=np.empty((0,5))):   ## rows = detections, columns = bounding box, score\n",
    "        # dets - a numpy array of detections in the format [[x1,y1,x2,y2,score],[x1,y1,x2,y2,score],...]\n",
    "        self.frame_count += 1\n",
    "        \n",
    "        # get predicted locations from existing trackers.\n",
    "        ## create new tracker-array from actual tracker-array self.trackers with Kalman-Predicted positions\n",
    "        trks = np.zeros((len(self.trackers), 5))\n",
    "        to_del =[] ## delete-list\n",
    "        ret = []   ## ???\n",
    "        \n",
    "        for t, trk in enumerate(trks):\n",
    "            pos = self.trackers[t].predict()[0]  ## predicted position by Kalman Filter\n",
    "            trk[:] = [pos[0], pos[1], pos[2], pos[3], 0]\n",
    "            if np.any(np.isnan(pos)):   ## if NaN in positions set tracklet on delete-list\n",
    "                to_del.append(t)\n",
    "            \n",
    "        trks = np.ma.compress_rows(np.ma.masked_invalid(trks))     # np-array without rows with invalid entries\n",
    "        for t in reversed(to_del):\n",
    "            self.trackers.pop(t)\n",
    "        \n",
    "        ## Use Hungarian Method to associate dets and trks according to IOU (intersection over union)\n",
    "        ## get matched as lists of index-pairs [[det, trk], ... [det, trk]] according to dets and trks\n",
    "        ## and unmatched as lists of indices\n",
    "        matched, unmatched_dets, unmatched_trks = associate_detections_to_trackers(dets, trks, self.iou_threshold)\n",
    "        \n",
    "        # update matched trackers with assigned detections\n",
    "        for m in matched:\n",
    "            self.trackers[m[1]].update(dets[m[0], :])    # Kalman-Update\n",
    "        \n",
    "        # create and initialize new trackers for unmatched detections\n",
    "        for i in unmatched_dets:\n",
    "            trk = KalmanBoxTracker(dets[i,:])\n",
    "            self.trackers.append(trk)\n",
    "        \n",
    "        # clean up trackers (remove aged, ...)\n",
    "        i = len(self.trackers)\n",
    "        for trk in reversed(self.trackers):\n",
    "            d =trk.get_state()[0]   # actual bbox [x1, y1, x2, y2] of tracker trk\n",
    "            if (\n",
    "                (trk.time_since_update < 1) and       # trk got an update\n",
    "                (trk.hit_streak >= self.min_hits or   # trk has hits in a series\n",
    "                 self.frame_count <= self.min_hits)   # we are in the beginning\n",
    "            ):\n",
    "                ret.append(np.concatenate((d,[trk.id+1])).reshape(1,-1)) # +1 as MOT benchmark requires positive\n",
    "            i -= 1\n",
    "            # remove tracklets\n",
    "            if(trk.time_since_update > self.max_age):\n",
    "                self.trackers.pop(i)\n",
    "            \n",
    "        if(len(ret) > 0):\n",
    "            return np.concatenate(ret)\n",
    "        return np.empty((0,5))\n"
   ]
  },
  {
   "cell_type": "markdown",
   "id": "57dd4319-59fe-49d7-b8bb-04e10564a2d8",
   "metadata": {
    "tags": []
   },
   "source": [
    "#### Kalman-Filter Class-Definition"
   ]
  },
  {
   "cell_type": "code",
   "execution_count": 72,
   "id": "060004cb-2fc7-4e2b-b35d-3d5dc05c0df8",
   "metadata": {},
   "outputs": [],
   "source": [
    "class KalmanBoxTracker(object):\n",
    "    count = 0\n",
    "    def __init__(self, bbox):\n",
    "        # x= [u, v, s, r, du, dv, ds] bounding box position (u, v), scale s, ratio r, change du, dv, ds (ratio assumed to be constant)\n",
    "        self.kf = KalmanFilter(dim_x=7, dim_z=4) \n",
    "        \n",
    "        # transition function [u  v  s  r  du dv ds] -> [u+du, v+dv, s+ds, r, du, dv, ds]\n",
    "        self.kf.F = np.array([[1, 0, 0, 0, 1, 0, 0],\n",
    "                              [0, 1, 0, 0, 0, 1, 0],\n",
    "                              [0, 0, 1, 0, 0, 0, 1],\n",
    "                              [0, 0, 0, 1, 0, 0, 0],\n",
    "                              [0, 0, 0, 0, 1, 0, 0],\n",
    "                              [0, 0, 0, 0, 0, 1, 0],\n",
    "                              [0, 0, 0, 0, 0, 0, 1]])\n",
    "        \n",
    "        # measurement function[u  v  s  r  du dv ds] -> [u, v, s, r]\n",
    "        self.kf.H = np.array([[1, 0, 0, 0, 0, 0, 0],\n",
    "                              [0, 1, 0, 0, 0, 0, 0],\n",
    "                              [0, 0, 1, 0, 0, 0, 0],\n",
    "                              [0, 0, 0, 1, 0, 0, 0]])\n",
    "        \n",
    "        # measurement variance\n",
    "        self.kf.R = np.array([[ 1., 0.,  0., 0.],\n",
    "                              [ 0., 1.,  0., 0.],\n",
    "                              [ 0., 0., 10., 0.],\n",
    "                              [ 0., 0., 0., 10.]])\n",
    "        \n",
    "        # state variance with high uncertainty to the unobservable initial velocities\n",
    "        self.kf.P =  np.array(\n",
    "                      [[10.,   0.,   0.,     0.,     0.,     0.,     0.],\n",
    "                      [ 0.,  10.,   0.,     0.,     0.,     0.,     0.],\n",
    "                      [ 0.,   0.,  10.,     0.,     0.,     0.,     0.],\n",
    "                      [ 0.,   0.,   0.,    10.,     0.,     0.,     0.],\n",
    "                      [ 0.,   0.,   0.,     0., 10000.,     0.,     0.],\n",
    "                      [ 0.,   0.,   0.,     0.,     0., 10000.,     0.],\n",
    "                      [ 0.,   0.,   0.,     0.,     0.,     0., 10000.]])\n",
    "         \n",
    "        \n",
    "        # process covariance\n",
    "        self.kf.Q[-1, -1] *= 0.01\n",
    "        self.kf.Q[4:, 4:] *= 0.01\n",
    "        \n",
    "        # initial state x0 = [u0, v0, s0, r0, 0, 0, 0]\n",
    "        self.kf.x[:4] = convert_bbox_to_z(bbox) ## Convert BoundingBox [x1, y1, x2, y2] to [u, v, s, r]\n",
    "        \n",
    "        self.id = KalmanBoxTracker.count\n",
    "        KalmanBoxTracker.count += 1\n",
    "        \n",
    "        self.time_since_update = 0        ## measures time between predictions and update\n",
    "        self.history = []                 ## contains predicted bboxes [x1, y1, x2, y2] without update (gets cleared when updated)\n",
    "        self.hits = 0                     ## number of hits (increases with every update)\n",
    "        self.hit_streak = 0               ## number of hits in a series / streak (reset when prediction without update)\n",
    "        self.age = 0                      ## increases with each prediction\n",
    "        \n",
    "    def predict(self):\n",
    "        ## Check if scale gets non-positive\n",
    "        if((self.kf.x[6] + self.kf.x[2]) <= 0):\n",
    "            self.kf.x[6] *= 0.0\n",
    "        \n",
    "        self.kf.predict()\n",
    "        self.age += 1\n",
    "        \n",
    "        if(self.time_since_update>0):\n",
    "            self.hit_streak = 0\n",
    "        self.time_since_update += 1\n",
    "        \n",
    "        self.history.append(convert_x_to_bbox(self.kf.x))\n",
    "        return self.history[-1]  ## returns prediction as bbox [x1, y1, x2, y2]\n",
    "    \n",
    "    def update(self, bbox):   # takes bbox [x1, y1, x2, y2]\n",
    "        self.time_since_update = 0\n",
    "        self.history = []\n",
    "        self.hits += 1\n",
    "        self.hit_streak += 1\n",
    "        self.kf.update(convert_bbox_to_z(bbox))\n",
    "        \n",
    "    def get_state(self):\n",
    "        return convert_x_to_bbox(self.kf.x)        \n",
    "        "
   ]
  },
  {
   "cell_type": "markdown",
   "id": "30038599-2775-4f4b-9e59-7942c126e817",
   "metadata": {},
   "source": [
    "## Experiments"
   ]
  },
  {
   "cell_type": "markdown",
   "id": "d55b14e2-0334-4a67-be30-02eb10f269fb",
   "metadata": {},
   "source": [
    "#### Linear Sum Assignment"
   ]
  },
  {
   "cell_type": "code",
   "execution_count": null,
   "id": "fb3f5551-f34c-41fc-94e4-126a98743e10",
   "metadata": {},
   "outputs": [],
   "source": [
    "bb1 = np.array([[0., 0, 4, 4], [5, 4, 7, 5], [0, 0, 6, 5]])\n",
    "bb2 = np.array([[1., 1., 3, 3], [0, 0, 8, 2.], [5, 4, 6, 5]])\n"
   ]
  },
  {
   "cell_type": "markdown",
   "id": "6e39781b-3529-4060-801e-253c8012f1ee",
   "metadata": {
    "tags": []
   },
   "source": [
    "#### Bounding Box Matches"
   ]
  },
  {
   "cell_type": "code",
   "execution_count": 7,
   "id": "27492539-7aa3-4605-9c5d-c04e6e3eebf1",
   "metadata": {},
   "outputs": [
    {
     "data": {
      "text/plain": [
       "array([[0.25      , 0.33333333, 0.        ],\n",
       "       [0.        , 0.        , 0.5       ],\n",
       "       [0.13333333, 0.35294118, 0.03333333]])"
      ]
     },
     "execution_count": 7,
     "metadata": {},
     "output_type": "execute_result"
    }
   ],
   "source": [
    "bb1 = np.array([[0., 0, 4, 4], [5, 4, 7, 5], [0, 0, 6, 5]])\n",
    "bb2 = np.array([[1., 1., 3, 3], [0, 0, 8, 2.], [5, 4, 6, 5]])\n",
    "iou_matrix = iou_batch(bb1, bb2); iou_matrix"
   ]
  },
  {
   "cell_type": "code",
   "execution_count": 8,
   "id": "87956742-894b-45b3-a1fa-233f987f3a24",
   "metadata": {},
   "outputs": [
    {
     "data": {
      "text/plain": [
       "array([[0, 0],\n",
       "       [1, 2],\n",
       "       [2, 1]])"
      ]
     },
     "execution_count": 8,
     "metadata": {},
     "output_type": "execute_result"
    }
   ],
   "source": [
    "matched_indices = linear_assignment(-iou_matrix); matched_indices"
   ]
  },
  {
   "cell_type": "code",
   "execution_count": 9,
   "id": "544a4d51-41e6-4611-a5cd-f0eb582fff02",
   "metadata": {},
   "outputs": [
    {
     "data": {
      "text/plain": [
       "array([0, 1, 2])"
      ]
     },
     "execution_count": 9,
     "metadata": {},
     "output_type": "execute_result"
    }
   ],
   "source": [
    "matched_indices[:,0]"
   ]
  },
  {
   "cell_type": "code",
   "execution_count": 10,
   "id": "e875b5b1-d811-403e-b208-383bd31ef0de",
   "metadata": {},
   "outputs": [
    {
     "data": {
      "text/plain": [
       "array([[0, 0]])"
      ]
     },
     "execution_count": 10,
     "metadata": {},
     "output_type": "execute_result"
    }
   ],
   "source": [
    "matched_indices[0].reshape(1, 2)"
   ]
  },
  {
   "cell_type": "code",
   "execution_count": 11,
   "id": "2e13b4e0-5b9b-48e3-9c2b-0833edf27c49",
   "metadata": {},
   "outputs": [
    {
     "name": "stdout",
     "output_type": "stream",
     "text": [
      "2\n",
      "2\n",
      "2\n"
     ]
    }
   ],
   "source": [
    "for m in matched_indices:\n",
    "    print(min(m.shape))"
   ]
  },
  {
   "cell_type": "code",
   "execution_count": 12,
   "id": "9110e1d8-b167-4809-bf64-20fb01107862",
   "metadata": {},
   "outputs": [
    {
     "ename": "NameError",
     "evalue": "name 'a' is not defined",
     "output_type": "error",
     "traceback": [
      "\u001b[0;31m---------------------------------------------------------------------------\u001b[0m",
      "\u001b[0;31mNameError\u001b[0m                                 Traceback (most recent call last)",
      "Input \u001b[0;32mIn [12]\u001b[0m, in \u001b[0;36m<cell line: 1>\u001b[0;34m()\u001b[0m\n\u001b[0;32m----> 1\u001b[0m np\u001b[38;5;241m.\u001b[39mstack(np\u001b[38;5;241m.\u001b[39mwhere(\u001b[43ma\u001b[49m), axis\u001b[38;5;241m=\u001b[39m\u001b[38;5;241m1\u001b[39m)\n",
      "\u001b[0;31mNameError\u001b[0m: name 'a' is not defined"
     ]
    }
   ],
   "source": [
    "np.stack(np.where(a), axis=1)"
   ]
  },
  {
   "cell_type": "markdown",
   "id": "d8c16c24-b8d1-4be5-8e35-e1300e46cf66",
   "metadata": {
    "jp-MarkdownHeadingCollapsed": true,
    "tags": []
   },
   "source": [
    "#### Kalman Filter"
   ]
  },
  {
   "cell_type": "code",
   "execution_count": 71,
   "id": "950e68d0-b01c-4662-968c-ac24c38d54a9",
   "metadata": {},
   "outputs": [
    {
     "data": {
      "text/plain": [
       "KalmanFilter object\n",
       "dim_x = 7\n",
       "dim_z = 4\n",
       "dim_u = 0\n",
       "x = [[1.  0.5 2.  2.  0.  0.  0. ]].T\n",
       "P = [[   10.     0.     0.     0.     0.     0.     0.]\n",
       "     [    0.    10.     0.     0.     0.     0.     0.]\n",
       "     [    0.     0.    10.     0.     0.     0.     0.]\n",
       "     [    0.     0.     0.    10.     0.     0.     0.]\n",
       "     [    0.     0.     0.     0. 10000.     0.     0.]\n",
       "     [    0.     0.     0.     0.     0. 10000.     0.]\n",
       "     [    0.     0.     0.     0.     0.     0. 10000.]]\n",
       "x_prior = [[0. 0. 0. 0. 0. 0. 0.]].T\n",
       "P_prior = [[1. 0. 0. 0. 0. 0. 0.]\n",
       "           [0. 1. 0. 0. 0. 0. 0.]\n",
       "           [0. 0. 1. 0. 0. 0. 0.]\n",
       "           [0. 0. 0. 1. 0. 0. 0.]\n",
       "           [0. 0. 0. 0. 1. 0. 0.]\n",
       "           [0. 0. 0. 0. 0. 1. 0.]\n",
       "           [0. 0. 0. 0. 0. 0. 1.]]\n",
       "x_post = [[0. 0. 0. 0. 0. 0. 0.]].T\n",
       "P_post = [[1. 0. 0. 0. 0. 0. 0.]\n",
       "          [0. 1. 0. 0. 0. 0. 0.]\n",
       "          [0. 0. 1. 0. 0. 0. 0.]\n",
       "          [0. 0. 0. 1. 0. 0. 0.]\n",
       "          [0. 0. 0. 0. 1. 0. 0.]\n",
       "          [0. 0. 0. 0. 0. 1. 0.]\n",
       "          [0. 0. 0. 0. 0. 0. 1.]]\n",
       "F = [[1 0 0 0 1 0 0]\n",
       "     [0 1 0 0 0 1 0]\n",
       "     [0 0 1 0 0 0 1]\n",
       "     [0 0 0 1 0 0 0]\n",
       "     [0 0 0 0 1 0 0]\n",
       "     [0 0 0 0 0 1 0]\n",
       "     [0 0 0 0 0 0 1]]\n",
       "Q = [[1.e+00 0.e+00 0.e+00 0.e+00 0.e+00 0.e+00 0.e+00]\n",
       "     [0.e+00 1.e+00 0.e+00 0.e+00 0.e+00 0.e+00 0.e+00]\n",
       "     [0.e+00 0.e+00 1.e+00 0.e+00 0.e+00 0.e+00 0.e+00]\n",
       "     [0.e+00 0.e+00 0.e+00 1.e+00 0.e+00 0.e+00 0.e+00]\n",
       "     [0.e+00 0.e+00 0.e+00 0.e+00 1.e-02 0.e+00 0.e+00]\n",
       "     [0.e+00 0.e+00 0.e+00 0.e+00 0.e+00 1.e-02 0.e+00]\n",
       "     [0.e+00 0.e+00 0.e+00 0.e+00 0.e+00 0.e+00 1.e-04]]\n",
       "R = [[ 1.  0.  0.  0.]\n",
       "     [ 0.  1.  0.  0.]\n",
       "     [ 0.  0. 10.  0.]\n",
       "     [ 0.  0.  0. 10.]]\n",
       "H = [[1 0 0 0 0 0 0]\n",
       "     [0 1 0 0 0 0 0]\n",
       "     [0 0 1 0 0 0 0]\n",
       "     [0 0 0 1 0 0 0]]\n",
       "K = [[0. 0. 0. 0.]\n",
       "     [0. 0. 0. 0.]\n",
       "     [0. 0. 0. 0.]\n",
       "     [0. 0. 0. 0.]\n",
       "     [0. 0. 0. 0.]\n",
       "     [0. 0. 0. 0.]\n",
       "     [0. 0. 0. 0.]]\n",
       "y = [[0. 0. 0. 0.]].T\n",
       "S = [[0. 0. 0. 0.]\n",
       "     [0. 0. 0. 0.]\n",
       "     [0. 0. 0. 0.]\n",
       "     [0. 0. 0. 0.]]\n",
       "SI = [[0. 0. 0. 0.]\n",
       "      [0. 0. 0. 0.]\n",
       "      [0. 0. 0. 0.]\n",
       "      [0. 0. 0. 0.]]\n",
       "M = [[0. 0. 0. 0.]\n",
       "     [0. 0. 0. 0.]\n",
       "     [0. 0. 0. 0.]\n",
       "     [0. 0. 0. 0.]]\n",
       "B = None\n",
       "z = [[None None None None]].T\n",
       "log-likelihood = -708.3964185322641\n",
       "likelihood = 2.2250738585072014e-308\n",
       "mahalanobis = 0.0\n",
       "alpha = 1.0\n",
       "inv = <function inv at 0x7f371c316310>"
      ]
     },
     "execution_count": 71,
     "metadata": {},
     "output_type": "execute_result"
    }
   ],
   "source": [
    "kf = KalmanBoxTracker([0, 0, 2, 1]); kf.kf"
   ]
  },
  {
   "cell_type": "code",
   "execution_count": 63,
   "id": "cbf8ca49-8f7c-46b5-8a37-8d255d990348",
   "metadata": {},
   "outputs": [
    {
     "data": {
      "text/plain": [
       "[[10.0, 0.0, 0.0, 0.0, 0.0, 0.0, 0.0],\n",
       " [0.0, 10.0, 0.0, 0.0, 0.0, 0.0, 0.0],\n",
       " [0.0, 0.0, 10.0, 0.0, 0.0, 0.0, 0.0],\n",
       " [0.0, 0.0, 0.0, 10.0, 0.0, 0.0, 0.0],\n",
       " [0.0, 0.0, 0.0, 0.0, 10000.0, 0.0, 0.0],\n",
       " [0.0, 0.0, 0.0, 0.0, 0.0, 10000.0, 0.0],\n",
       " [0.0, 0.0, 0.0, 0.0, 0.0, 0.0, 10000.0]]"
      ]
     },
     "execution_count": 63,
     "metadata": {},
     "output_type": "execute_result"
    }
   ],
   "source": [
    "kf.kf.P"
   ]
  },
  {
   "cell_type": "code",
   "execution_count": 66,
   "id": "45fa3490-bb2b-48e5-aa98-450799c203ae",
   "metadata": {},
   "outputs": [
    {
     "data": {
      "text/plain": [
       "array([[1., 0., 0., 0., 0., 0., 0.],\n",
       "       [0., 1., 0., 0., 0., 0., 0.],\n",
       "       [0., 0., 1., 0., 0., 0., 0.],\n",
       "       [0., 0., 0., 1., 0., 0., 0.],\n",
       "       [0., 0., 0., 0., 1., 0., 0.],\n",
       "       [0., 0., 0., 0., 0., 1., 0.],\n",
       "       [0., 0., 0., 0., 0., 0., 1.]])"
      ]
     },
     "execution_count": 66,
     "metadata": {},
     "output_type": "execute_result"
    }
   ],
   "source": [
    "kf2 = KalmanFilter(dim_x=7, dim_z=4); kf2.P"
   ]
  },
  {
   "cell_type": "code",
   "execution_count": 67,
   "id": "9ad4ccbb-2379-4786-961e-8eea289858a7",
   "metadata": {},
   "outputs": [
    {
     "data": {
      "text/plain": [
       "numpy.ndarray"
      ]
     },
     "execution_count": 67,
     "metadata": {},
     "output_type": "execute_result"
    }
   ],
   "source": [
    "type(kf2.P)"
   ]
  },
  {
   "cell_type": "code",
   "execution_count": 69,
   "id": "19676fbc-6493-4d67-af95-2ae99cfe138a",
   "metadata": {},
   "outputs": [
    {
     "data": {
      "text/plain": [
       "list"
      ]
     },
     "execution_count": 69,
     "metadata": {},
     "output_type": "execute_result"
    }
   ],
   "source": [
    "type(kf.kf.P)"
   ]
  },
  {
   "cell_type": "code",
   "execution_count": 34,
   "id": "80bf8833-fd38-49a3-b030-2d6ac20b2eff",
   "metadata": {},
   "outputs": [
    {
     "data": {
      "text/plain": [
       "array([[0., 0., 2., 1.]])"
      ]
     },
     "execution_count": 34,
     "metadata": {},
     "output_type": "execute_result"
    }
   ],
   "source": [
    "kf.get_state()"
   ]
  },
  {
   "cell_type": "code",
   "execution_count": 35,
   "id": "41bf87f3-4eaa-45e1-8055-d665243931e9",
   "metadata": {},
   "outputs": [
    {
     "data": {
      "text/plain": [
       "array([[0., 0., 2., 1.]])"
      ]
     },
     "execution_count": 35,
     "metadata": {},
     "output_type": "execute_result"
    }
   ],
   "source": [
    "kf.predict()"
   ]
  },
  {
   "cell_type": "markdown",
   "id": "5e16c450-cd81-4e95-b602-4065f2ff87bc",
   "metadata": {
    "jp-MarkdownHeadingCollapsed": true,
    "tags": []
   },
   "source": [
    "#### Masked Arrays"
   ]
  },
  {
   "cell_type": "code",
   "execution_count": 39,
   "id": "59492f57-387d-468f-a4b6-c0d2a19eca8f",
   "metadata": {},
   "outputs": [
    {
     "data": {
      "text/plain": [
       "array([[ 0.,  1.,  2.,  3.],\n",
       "       [ 4.,  5.,  6.,  7.],\n",
       "       [ 8.,  9., 10., 11.]])"
      ]
     },
     "execution_count": 39,
     "metadata": {},
     "output_type": "execute_result"
    }
   ],
   "source": [
    "x = np.arange(12, dtype=float).reshape(3, 4); x"
   ]
  },
  {
   "cell_type": "code",
   "execution_count": 40,
   "id": "8dc54155-244f-4211-bb0c-9b7b35eab321",
   "metadata": {},
   "outputs": [],
   "source": [
    "x[1, 1] = np.nan"
   ]
  },
  {
   "cell_type": "code",
   "execution_count": null,
   "id": "ebc7d391-1404-4573-bf73-599fb3831ac6",
   "metadata": {},
   "outputs": [],
   "source": []
  },
  {
   "cell_type": "code",
   "execution_count": 42,
   "id": "662b9cf0-b6f8-41b3-9295-324efdf6e693",
   "metadata": {},
   "outputs": [
    {
     "data": {
      "text/plain": [
       "masked_array(\n",
       "  data=[[0.0, 1.0, 2.0, 3.0],\n",
       "        [4.0, --, 6.0, 7.0],\n",
       "        [8.0, 9.0, 10.0, 11.0]],\n",
       "  mask=[[False, False, False, False],\n",
       "        [False,  True, False, False],\n",
       "        [False, False, False, False]],\n",
       "  fill_value=1e+20)"
      ]
     },
     "execution_count": 42,
     "metadata": {},
     "output_type": "execute_result"
    }
   ],
   "source": [
    "x = np.ma.masked_invalid(x); x"
   ]
  },
  {
   "cell_type": "code",
   "execution_count": 43,
   "id": "7e851ccf-f447-49e2-81f7-7bce5940c3ec",
   "metadata": {},
   "outputs": [
    {
     "data": {
      "text/plain": [
       "array([[ 0.,  1.,  2.,  3.],\n",
       "       [ 8.,  9., 10., 11.]])"
      ]
     },
     "execution_count": 43,
     "metadata": {},
     "output_type": "execute_result"
    }
   ],
   "source": [
    "x = np.ma.compress_rows(x); x"
   ]
  },
  {
   "cell_type": "markdown",
   "id": "24006097-4c93-495d-9640-59c35e3dd8de",
   "metadata": {},
   "source": [
    "#### Sandbox"
   ]
  },
  {
   "cell_type": "code",
   "execution_count": 60,
   "id": "2256efc0-483e-4dc5-8cfe-b5025048b0f6",
   "metadata": {},
   "outputs": [
    {
     "name": "stdout",
     "output_type": "stream",
     "text": [
      "false\n"
     ]
    }
   ],
   "source": [
    "if(\n",
    "    (True) and   # comment\n",
    "    (False or \n",
    "     False)\n",
    "):\n",
    "    print('true')\n",
    "else:\n",
    "    print('false')"
   ]
  },
  {
   "cell_type": "code",
   "execution_count": null,
   "id": "2e3caf04-69e4-4131-a248-5c9002e2a5a1",
   "metadata": {},
   "outputs": [],
   "source": [
    "np.concatenate()"
   ]
  }
 ],
 "metadata": {
  "kernelspec": {
   "display_name": "dsr-setup",
   "language": "python",
   "name": "dsr-setup"
  },
  "language_info": {
   "codemirror_mode": {
    "name": "ipython",
    "version": 3
   },
   "file_extension": ".py",
   "mimetype": "text/x-python",
   "name": "python",
   "nbconvert_exporter": "python",
   "pygments_lexer": "ipython3",
   "version": "3.8.13"
  }
 },
 "nbformat": 4,
 "nbformat_minor": 5
}
